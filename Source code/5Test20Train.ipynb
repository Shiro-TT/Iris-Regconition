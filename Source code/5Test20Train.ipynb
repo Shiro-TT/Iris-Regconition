{
 "cells": [
  {
   "cell_type": "code",
   "execution_count": 1,
   "metadata": {},
   "outputs": [],
   "source": [
    "import cv2\n",
    "import os\n",
    "import numpy as np\n",
    "import glob\n",
    "import math\n",
    "import scipy\n",
    "from scipy.spatial import distance\n",
    "from scipy import signal\n",
    "from sklearn.discriminant_analysis import LinearDiscriminantAnalysis as LDA\n",
    "import matplotlib.pyplot as plt\n",
    "import pandas as pd\n",
    "import warnings\n",
    "warnings.filterwarnings(\"ignore\")\n",
    "import matplotlib.pyplot as plt\n",
    "from sklearn import metrics"
   ]
  },
  {
   "cell_type": "code",
   "execution_count": 2,
   "metadata": {},
   "outputs": [],
   "source": [
    "##Lấy danh sách mẫu mống mắt\n",
    "cwd = os.getcwd()\n",
    "for dir_path, dir_names, file_names in os.walk(cwd):\n",
    "    for f in file_names:\n",
    "        list_file = open(\"list_file.txt\",\"a+\")\n",
    "        temp=str(os.path.join(dir_path,f)+'\\n')\n",
    "        if '.bmp' in temp:\n",
    "            list_file.write(temp)\n",
    "list_file = open(\"list_file.txt\",\"r\")\n",
    "images_train=[]\n",
    "images_test=[]\n",
    "ID_images_train=[]\n",
    "ID_images_test=[]\n",
    "if list_file.mode == 'r':\n",
    "    data =list_file.readlines()\n",
    "    for i in data[1000:1025]:\n",
    "        if i[-6:-5]=='1':\n",
    "            ID_images_test.append(i[-10:-5])\n",
    "            images_test.append(cv2.imread(i[:-1]))\n",
    "        else:\n",
    "            ID_images_train.append(i[-10:-5])\n",
    "            images_train.append(cv2.imread(i[:-1]))"
   ]
  },
  {
   "cell_type": "code",
   "execution_count": 3,
   "metadata": {},
   "outputs": [
    {
     "name": "stdout",
     "output_type": "stream",
     "text": [
      "['201_1', '202_1', '203_1', '204_1', '205_1']\n"
     ]
    }
   ],
   "source": [
    "print(ID_images_test)"
   ]
  },
  {
   "cell_type": "code",
   "execution_count": 4,
   "metadata": {},
   "outputs": [
    {
     "name": "stdout",
     "output_type": "stream",
     "text": [
      "['201_2', '201_3', '201_4', '201_5', '202_2', '202_3', '202_4', '202_5', '203_2', '203_3', '203_4', '203_5', '204_2', '204_3', '204_4', '204_5', '205_2', '205_3', '205_4', '205_5']\n"
     ]
    }
   ],
   "source": [
    "print(ID_images_train)"
   ]
  },
  {
   "cell_type": "code",
   "execution_count": 5,
   "metadata": {},
   "outputs": [],
   "source": [
    "def ImageEnhancement(normalized):\n",
    "    enhanced=[]\n",
    "    for res in normalized:\n",
    "        res = res.astype(np.uint8)\n",
    "        im=cv2.equalizeHist(res)\n",
    "        enhanced.append(im)\n",
    "    return enhanced"
   ]
  },
  {
   "cell_type": "code",
   "execution_count": 6,
   "metadata": {},
   "outputs": [],
   "source": [
    "#modulating function as defined in paper\n",
    "def m(x ,y, f):\n",
    "    val = np.cos(2*np.pi*f*math.sqrt(x **2 + y**2))\n",
    "    return val\n",
    "#spatial filter as defined in paper\n",
    "def gabor(x, y, dx, dy, f):\n",
    "    gb = (1/(2*math.pi*dx*dy))*np.exp(-0.5*(x**2 / dx**2 + y**2 / dy**2)) * m(x, y, f)\n",
    "    return gb\n",
    "\n",
    "#function to calculate spatial filter over 8x8 blocks\n",
    "def spatial(f,dx,dy):\n",
    "    sfilter=np.zeros((8,8))\n",
    "    for i in range(8):\n",
    "        for j in range(8):\n",
    "            sfilter[i,j]=gabor((-4+j),(-4+i),dx,dy,f)\n",
    "    return sfilter\n",
    "\n",
    "def get_vec(convolvedtrain1,convolvedtrain2):\n",
    "    feature_vec=[]\n",
    "    for i in range(6):\n",
    "            for j in range(64):\n",
    "                #Run 8 by 8 filtered block iteratively over the entire image\n",
    "                start_height = i*8\n",
    "                end_height = start_height+8\n",
    "                start_wid = j*8\n",
    "                end_wid = start_wid+8\n",
    "                grid1 = convolvedtrain1[start_height:end_height, start_wid:end_wid]\n",
    "                grid2 = convolvedtrain2[start_height:end_height, start_wid:end_wid]\n",
    "\n",
    "                # Channel 1\n",
    "                absolute = np.absolute(grid1)\n",
    "                # mean\n",
    "                mean = np.mean(absolute)\n",
    "                feature_vec.append(mean)\n",
    "                #deviation\n",
    "                std = np.mean(np.absolute(absolute-mean))\n",
    "                feature_vec.append(std)\n",
    "\n",
    "                # Channel 2\n",
    "                absolute = np.absolute(grid2)\n",
    "                # mean\n",
    "                mean = np.mean(absolute)\n",
    "                feature_vec.append(mean)\n",
    "                #deviation\n",
    "                std = np.mean(np.absolute(absolute-mean))\n",
    "                feature_vec.append(std)\n",
    "\n",
    "    return feature_vec\n",
    "\n",
    "def FeatureExtraction(enhanced):\n",
    "    con1=[]\n",
    "    con2=[]\n",
    "    #get spatial filters\n",
    "    filter1=spatial(0.67,3,1.5)\n",
    "    filter2=spatial(0.67,4,1.5) \n",
    "    \n",
    "    feature_vector=[]\n",
    "    \n",
    "    for i in range(len(enhanced)):\n",
    "        img=enhanced[i]\n",
    "        #define a 48x512 region over which the filters are applied\n",
    "        img_roi=img[:48,:]\n",
    "        \n",
    "        filtered1=scipy.signal.convolve2d(img_roi,filter1,mode='same')\n",
    "        filtered2=scipy.signal.convolve2d(img_roi,filter2,mode='same')\n",
    "        \n",
    "        con1.append(filtered1)\n",
    "        con2.append(filtered2)\n",
    "        fv=get_vec(filtered1,filtered2)\n",
    "        feature_vector.append(fv)\n",
    "    return feature_vector #each feature vector has a dimension of 1536\n",
    "\n"
   ]
  },
  {
   "cell_type": "code",
   "execution_count": 7,
   "metadata": {
    "scrolled": true
   },
   "outputs": [],
   "source": [
    "images_train=[ImageEnhancement(i) for i in images_train]\n",
    "train=[FeatureExtraction(i) for i in images_train]"
   ]
  },
  {
   "cell_type": "code",
   "execution_count": 8,
   "metadata": {},
   "outputs": [],
   "source": [
    "images_test=[ImageEnhancement(i) for i in images_test]\n",
    "test=[FeatureExtraction(i) for i in images_test]"
   ]
  },
  {
   "cell_type": "code",
   "execution_count": 9,
   "metadata": {},
   "outputs": [],
   "source": [
    "feature_vector_test=test\n",
    "feature_vector_train=train"
   ]
  },
  {
   "cell_type": "code",
   "execution_count": 10,
   "metadata": {},
   "outputs": [],
   "source": [
    "def score(feature_vector_train,feature_vector_test):\n",
    "    score=0\n",
    "    for i in range(0,1536):\n",
    "        if np.isnan(feature_vector_train[i])==True and np.isnan(feature_vector_test[i])==True:\n",
    "            score+=0\n",
    "        elif np.isnan(feature_vector_train[i])==True:\n",
    "            score+=feature_vector_test[i]\n",
    "        elif np.isnan(feature_vector_test[i])==True:\n",
    "            score+=feature_vector_train[i]\n",
    "        else:\n",
    "            score+=abs(feature_vector_train[i]-feature_vector_test[i])\n",
    "    return score"
   ]
  },
  {
   "cell_type": "code",
   "execution_count": 12,
   "metadata": {
    "scrolled": true
   },
   "outputs": [],
   "source": [
    "a=[[sum([score(feature_vector_train[i][j],feature_vector_test[k][j]) for j in range(0,48)]) for i in range(0,20)] for k in range(0,5)]"
   ]
  },
  {
   "cell_type": "code",
   "execution_count": 13,
   "metadata": {},
   "outputs": [
    {
     "data": {
      "text/plain": [
       "[[723.7535501160994,\n",
       "  454.1971814825695,\n",
       "  545.1467654421451,\n",
       "  463.4820108041715,\n",
       "  747.5951368622896,\n",
       "  879.8224529878074,\n",
       "  844.3052269933723,\n",
       "  814.3328080140591,\n",
       "  852.6587524034929,\n",
       "  912.4608049707211,\n",
       "  882.8055361370078,\n",
       "  929.8900882344667,\n",
       "  757.8087521342526,\n",
       "  747.4508177497273,\n",
       "  714.6661539837762,\n",
       "  756.7795557354184,\n",
       "  763.5096479748084,\n",
       "  745.4578929968806,\n",
       "  772.3307823684322,\n",
       "  876.5629056302814],\n",
       " [867.296957567554,\n",
       "  758.9560495313262,\n",
       "  747.7725624751979,\n",
       "  763.5462555481927,\n",
       "  444.54554831003065,\n",
       "  539.5789003854525,\n",
       "  484.1461505158555,\n",
       "  578.1026927618449,\n",
       "  894.7334080951427,\n",
       "  901.4157871589881,\n",
       "  969.916640315615,\n",
       "  913.4695299912403,\n",
       "  881.4511773351059,\n",
       "  893.5353882498807,\n",
       "  853.4064292139783,\n",
       "  883.4913992762006,\n",
       "  784.3852138161789,\n",
       "  827.3368351858617,\n",
       "  777.1575501219216,\n",
       "  774.530197215708],\n",
       " [865.3369222340542,\n",
       "  862.4437945287876,\n",
       "  827.0976341273592,\n",
       "  833.0115798349441,\n",
       "  892.4459176122666,\n",
       "  1018.7605914095898,\n",
       "  927.5245210486714,\n",
       "  930.0425149773124,\n",
       "  478.462610244627,\n",
       "  509.05773994961487,\n",
       "  391.56988304706954,\n",
       "  479.13585424924156,\n",
       "  859.7921829796085,\n",
       "  835.4834066238496,\n",
       "  855.4497886979613,\n",
       "  864.667963191672,\n",
       "  911.6369248566042,\n",
       "  891.8943075083054,\n",
       "  917.2183146422437,\n",
       "  976.021411127987],\n",
       " [617.0619920139931,\n",
       "  735.5160857149608,\n",
       "  745.4262129299331,\n",
       "  719.3768163749802,\n",
       "  877.7104780976815,\n",
       "  1014.0933714755137,\n",
       "  909.5214706947402,\n",
       "  858.4110194626555,\n",
       "  860.2771025789287,\n",
       "  925.4336202961159,\n",
       "  964.5137488696718,\n",
       "  959.6390671374118,\n",
       "  292.67212509102075,\n",
       "  390.39844095429106,\n",
       "  345.4800302455334,\n",
       "  334.51676758516584,\n",
       "  844.0202394654768,\n",
       "  813.4929781750288,\n",
       "  849.1156837735349,\n",
       "  976.6489060197146],\n",
       " [832.3131864989618,\n",
       "  740.2206901374931,\n",
       "  742.8548727573466,\n",
       "  704.5892075390425,\n",
       "  782.7096084060549,\n",
       "  838.6664794369042,\n",
       "  826.9406241512145,\n",
       "  809.8191143029503,\n",
       "  896.8641864386593,\n",
       "  918.6400335146578,\n",
       "  999.37487728361,\n",
       "  942.6255155794524,\n",
       "  814.7637264644742,\n",
       "  825.5142020363767,\n",
       "  799.3546011580806,\n",
       "  823.4029871146461,\n",
       "  401.96014545338704,\n",
       "  431.2856187854885,\n",
       "  472.65918871460536,\n",
       "  631.0751565281973]]"
      ]
     },
     "execution_count": 13,
     "metadata": {},
     "output_type": "execute_result"
    }
   ],
   "source": [
    "a"
   ]
  },
  {
   "cell_type": "code",
   "execution_count": 14,
   "metadata": {},
   "outputs": [],
   "source": [
    "result=[ID_images_train[i.index(min(i))][0:3] for i in a]"
   ]
  },
  {
   "cell_type": "code",
   "execution_count": 15,
   "metadata": {},
   "outputs": [
    {
     "name": "stdout",
     "output_type": "stream",
     "text": [
      "['201', '202', '203', '204', '205']\n"
     ]
    }
   ],
   "source": [
    "print(result)"
   ]
  },
  {
   "cell_type": "code",
   "execution_count": 16,
   "metadata": {},
   "outputs": [],
   "source": [
    "ID_images_test=[i[0:3] for i in ID_images_test ]"
   ]
  },
  {
   "cell_type": "code",
   "execution_count": 17,
   "metadata": {},
   "outputs": [
    {
     "name": "stdout",
     "output_type": "stream",
     "text": [
      "['201', '202', '203', '204', '205']\n"
     ]
    }
   ],
   "source": [
    "print(ID_images_test)"
   ]
  },
  {
   "cell_type": "code",
   "execution_count": 18,
   "metadata": {},
   "outputs": [],
   "source": [
    "from scipy.spatial import distance"
   ]
  },
  {
   "cell_type": "code",
   "execution_count": 19,
   "metadata": {},
   "outputs": [
    {
     "data": {
      "text/plain": [
       "1.0"
      ]
     },
     "execution_count": 19,
     "metadata": {},
     "output_type": "execute_result"
    }
   ],
   "source": [
    "1-distance.hamming(result,ID_images_test)"
   ]
  },
  {
   "cell_type": "code",
   "execution_count": null,
   "metadata": {},
   "outputs": [],
   "source": []
  }
 ],
 "metadata": {
  "kernelspec": {
   "display_name": "Python 3.7.6 64-bit ('base': conda)",
   "language": "python",
   "name": "python37664bitbaseconda91c98126b8be48478bc1f5c1ab776863"
  },
  "language_info": {
   "codemirror_mode": {
    "name": "ipython",
    "version": 3
   },
   "file_extension": ".py",
   "mimetype": "text/x-python",
   "name": "python",
   "nbconvert_exporter": "python",
   "pygments_lexer": "ipython3",
   "version": "3.7.6"
  }
 },
 "nbformat": 4,
 "nbformat_minor": 4
}
